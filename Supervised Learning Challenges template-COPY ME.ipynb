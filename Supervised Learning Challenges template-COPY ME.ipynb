{
 "cells": [
  {
   "cell_type": "markdown",
   "metadata": {},
   "source": [
    "# Supervised Learning Challenges\n",
    "\n",
    "\n",
    "Get the [congressional votes data](house-votes-84.csv) in your repo.\n",
    "\n",
    "These are votes of U.S. House of Representatives Congressmen on 16 key\n",
    "issues in 1984. You can find more information about it [here](house-votes-84-description.txt).\n",
    "\n",
    "We will try to see if we can predict the house members' party based on\n",
    "their votes.   \n",
    "We will also use some of the general machine learning tools we learned.\n",
    "\n",
    "#### Challenge 1 `[Python]`\n",
    "Load the data into a pandas dataframe. Replace `'y'`s with `1`s, `'n'`s with\n",
    "`0`s.\n",
    "\n",
    "Now, almost every representative has a `?`. This represents a no vote\n",
    "(they were absent or some other similar reason). If we dropped all the\n",
    "rows that had a `?`, we would throw out most of our data. Instead, we\n",
    "will replace `?` with the _best guess_ (in the Bayesian sense): in the\n",
    "absence of any other information, we will say that the probability of\n",
    "the representative saying YES is the ratio of others that said YES\n",
    "over the whole votes.\n",
    "\n",
    "So, convert each `?` to this probability (when yes=1 and no=0, this is\n",
    "the mean of the column)"
   ]
  },
  {
   "cell_type": "code",
   "execution_count": 2,
   "metadata": {
    "collapsed": false
   },
   "outputs": [
    {
     "name": "stdout",
     "output_type": "stream",
     "text": [
      "           0        1    2    3         4         5    6    7    8    9    10  \\\n",
      "0  republican  0.00000  1.0  0.0  1.000000  1.000000  1.0  0.0  0.0  0.0  1.0   \n",
      "1  republican  0.00000  1.0  0.0  1.000000  1.000000  1.0  0.0  0.0  0.0  0.0   \n",
      "2    democrat  0.44208  1.0  1.0  0.417453  1.000000  1.0  0.0  0.0  0.0  0.0   \n",
      "3    democrat  0.00000  1.0  1.0  0.000000  0.504762  1.0  0.0  0.0  0.0  0.0   \n",
      "4    democrat  1.00000  1.0  1.0  0.000000  1.000000  1.0  0.0  0.0  0.0  0.0   \n",
      "\n",
      "         11        12   13   14   15        16  \n",
      "0  0.362319  1.000000  1.0  1.0  0.0  1.000000  \n",
      "1  0.000000  1.000000  1.0  1.0  0.0  0.812689  \n",
      "2  1.000000  0.000000  1.0  1.0  0.0  0.000000  \n",
      "3  1.000000  0.000000  1.0  0.0  0.0  1.000000  \n",
      "4  1.000000  0.423267  1.0  1.0  1.0  1.000000  \n"
     ]
    }
   ],
   "source": [
    "import os\n",
    "import pandas as pd\n",
    "import matplotlib.pyplot as plt\n",
    "import seaborn as sns\n",
    "%matplotlib inline\n",
    "\n",
    "data = pd.read_csv(open('house-votes-84.csv', 'r'), header=None).replace(('y', 'n', '?'), value=(1, 0, None))\n",
    "m = data.mean( numeric_only=True)\n",
    "data = data.fillna(value=m)\n",
    "print data.head()\n"
   ]
  },
  {
   "cell_type": "markdown",
   "metadata": {},
   "source": [
    "#### Challenge 2 `[Modeling]`\n",
    "Split the data into a test and training set. Use this\n",
    "function:\n",
    "\n",
    "    from sklearn.cross_validation import train_test_split"
   ]
  },
  {
   "cell_type": "code",
   "execution_count": 3,
   "metadata": {
    "collapsed": false
   },
   "outputs": [
    {
     "name": "stderr",
     "output_type": "stream",
     "text": [
      "/Users/swd075/.local/lib/python2.7/site-packages/sklearn/cross_validation.py:43: DeprecationWarning: This module was deprecated in version 0.18 in favor of the model_selection module into which all the refactored classes and functions are moved. Also note that the interface of the new CV iterators are different from that of this module. This module will be removed in 0.20.\n",
      "  \"This module will be removed in 0.20.\", DeprecationWarning)\n"
     ]
    }
   ],
   "source": [
    "from sklearn.cross_validation import train_test_split\n",
    "\n",
    "train, test = train_test_split(data, test_size = 0.4, random_state=1)"
   ]
  },
  {
   "cell_type": "markdown",
   "metadata": {},
   "source": [
    "#### Challenge 3 `[Modeling]`\n",
    "Using scikit.learn's KNN algorithm, train a model that predicts the\n",
    "party (republican/democrat):\n",
    "\n",
    "    from sklearn.neighbors import KNeighborsClassifier\n",
    "\n",
    "Read the [documentation](http://scikit-learn.org/stable/modules/generated/sklearn.neighbors.KNeighborsClassifier.html). \n",
    "Get your X (columns of features) and Y (target column) vectors ready for fitting and evaluating. \n",
    "Initiate the model with `knn_model = KNeighborsClassifier(n_neighbors=1)` (for a k=1 KNN). \n",
    "Call `.fit(X, Y)` on the `knn_model` with the X and Y from the training set.\n",
    "\n",
    "Try it with a lot of different k values (number of neighbors), from 1\n",
    "to 20, and on the test set calculate the accuracy (number of correct\n",
    "predictions / number of all predictions) for each k\n",
    "\n",
    "You can use this to calculate accuracy:\n",
    "\n",
    "    from sklearn.metrics import accuracy_score\n",
    "\n",
    "Which k value gives the highest accuracy?"
   ]
  },
  {
   "cell_type": "code",
   "execution_count": 4,
   "metadata": {
    "collapsed": false
   },
   "outputs": [
    {
     "name": "stdout",
     "output_type": "stream",
     "text": [
      "(1, 0.93103448275862066)\n"
     ]
    }
   ],
   "source": [
    "from sklearn.neighbors import KNeighborsClassifier\n",
    "from sklearn.metrics import accuracy_score\n",
    "from operator import itemgetter\n",
    "\n",
    "m = (0,0)\n",
    "\n",
    "for i in range(1, 21):\n",
    "    knn_model = KNeighborsClassifier(n_neighbors=i).fit(train[range(1,data.shape[1])],train[0])\n",
    "    # print data[range(1,data.shape[1])].head()\n",
    "    pred_y = knn_model.predict(test[range(1,data.shape[1])])\n",
    "    m = max(m, (i, accuracy_score(test[0], pred_y)), key=itemgetter(1))\n",
    "\n",
    "print m\n",
    "\n"
   ]
  },
  {
   "cell_type": "markdown",
   "metadata": {},
   "source": [
    "#### Challenge 4 `[Modeling]`\n",
    "Make a similar model but with scikit.learn's `LogisticRegression` instead. Calculate\n",
    "test accuracy. Google the documentation. The fit / predict interface is the same for all models in scikit.learn"
   ]
  },
  {
   "cell_type": "code",
   "execution_count": 5,
   "metadata": {
    "collapsed": false
   },
   "outputs": [
    {
     "name": "stdout",
     "output_type": "stream",
     "text": [
      "0.954022988506\n"
     ]
    }
   ],
   "source": [
    "from sklearn.linear_model import LogisticRegression as lr\n",
    "def logistic_model():\n",
    "    logit_model = lr()\n",
    "    logit_model = logit_model.fit(train[range(1,data.shape[1])],train[0])\n",
    "    pred_y = logit_model.predict(test[range(1,data.shape[1])])\n",
    "    return accuracy_score(test[0], pred_y)\n",
    "print logistic_model()"
   ]
  },
  {
   "cell_type": "markdown",
   "metadata": {},
   "source": [
    "#### Challenge 5 `[Python]`\n",
    "Make a bar graph of democrats and republicans. How many of each are\n",
    "there?\n",
    "\n",
    "Make a very simple predictor that predicts 'democrat' for every\n",
    "incoming example.   \n",
    "(Just make a function that takes in an `X`  --an array or matrix with\n",
    "input examples--, and returns an array of the same length as `X`, where\n",
    "each value is 'democrat'. For example, if `X` is three rows, your\n",
    "function should return `['democrat','democrat','democrat']`) Make a\n",
    "`y_predicted` vector using this and measure its accuracy.\n",
    "\n",
    "Do the same with predicting 'republican' all the time and measure its\n",
    "accuracy."
   ]
  },
  {
   "cell_type": "code",
   "execution_count": 6,
   "metadata": {
    "collapsed": false
   },
   "outputs": [
    {
     "data": {
      "image/png": "[encoded data removed]",
      "text/plain": [
       "<matplotlib.figure.Figure at 0x119d74850>"
      ]
     },
     "metadata": {},
     "output_type": "display_data"
    }
   ],
   "source": [
    "plt.figure()\n",
    "data[0].value_counts().plot(kind='bar')\n",
    "\n",
    "def dem_predict(df):\n",
    "    return ['democrat']*df.shape[0]\n",
    "\n",
    "def rep_predict(df):\n",
    "    return ['republican']*df.shape[0]\n"
   ]
  },
  {
   "cell_type": "markdown",
   "metadata": {},
   "source": [
    "#### Challenge 6 `[Visualization]`\n",
    "Plot the accuracies of each predictor as a function of k. Since k only matters for KNN,\n",
    "your logistic regression accuracy, 'democrat' predictor accuracy and\n",
    "'republican' predictor accuracy will stay the same over all k, so each\n",
    "of these three will be a horizontal line. But the KNN accuracy will\n",
    "change with k."
   ]
  },
  {
   "cell_type": "code",
   "execution_count": 7,
   "metadata": {
    "collapsed": false
   },
   "outputs": [
    {
     "data": {
      "text/plain": [
       "[<matplotlib.lines.Line2D at 0x11cccaa10>,\n",
       " <matplotlib.lines.Line2D at 0x11cccac10>,\n",
       " <matplotlib.lines.Line2D at 0x11ccd9310>,\n",
       " <matplotlib.lines.Line2D at 0x11ccd9950>]"
      ]
     },
     "execution_count": 7,
     "metadata": {},
     "output_type": "execute_result"
    },
    {
     "data": {
      "image/png": "[encoded data removed]",
      "text/plain": [
       "<matplotlib.figure.Figure at 0x11c601590>"
      ]
     },
     "metadata": {},
     "output_type": "display_data"
    }
   ],
   "source": [
    "def k_model(k):\n",
    "    knn_model = KNeighborsClassifier(n_neighbors=k).fit(train[range(1,data.shape[1])],train[0])\n",
    "    # print data[range(1,data.shape[1])].head()\n",
    "    pred_y = knn_model.predict(test[range(1,data.shape[1])])\n",
    "    return accuracy_score(test[0], pred_y)\n",
    "\n",
    "x = range(1,21)\n",
    "dem_pred = [accuracy_score(test[0], dem_predict(test[0]))]*20\n",
    "rep_pred = [accuracy_score(test[0], rep_predict(test[0]))]*20\n",
    "knn_pred = map(k_model, x)\n",
    "log_pred = [logistic_model()]*20\n",
    "\n",
    "plt.plot(x, dem_pred, x, rep_pred, x, knn_pred, x, log_pred)"
   ]
  },
  {
   "cell_type": "markdown",
   "metadata": {},
   "source": [
    "#### Challenge 7 `[Modeling]`\n",
    "When you found the k value with highest test accuracy in Challenge 3, you used a single test set. \n",
    "Use scikit.learn's cross-validation tools to get a range of accuracies for each k. \n",
    "Using the average cross validation accuracy, does the best k change? \n",
    "Can you imagine cases where it might and might not change?"
   ]
  },
  {
   "cell_type": "code",
   "execution_count": 8,
   "metadata": {
    "collapsed": false
   },
   "outputs": [
    {
     "name": "stdout",
     "output_type": "stream",
     "text": [
      "(3, 0.93323922454357233, 0.070905489334143659)\n"
     ]
    }
   ],
   "source": [
    "from sklearn import cross_validation\n",
    "import numpy as np\n",
    "\n",
    "X = data[range(1,data.shape[1])]\n",
    "Y = data[0]\n",
    "def k_model_cross(k):\n",
    "    knn_model = KNeighborsClassifier(n_neighbors=k)\n",
    "    # print data[range(1,data.shape[1])].head()\n",
    "    cv_values = np.array(cross_validation.cross_val_score(knn_model, X, Y, cv=20))\n",
    "    return (k, np.mean(cv_values), np.std(cv_values))\n",
    "print max(map(k_model_cross, range(1,21)), key=itemgetter(1))"
   ]
  },
  {
   "cell_type": "markdown",
   "metadata": {},
   "source": [
    "#### Challenge 8 `[Visualization]`\n",
    "Like in Challenge 6, make a graph of  accuracies for each k value. \n",
    "This time, put error bars in your graph, using your results from Challenge 7.\n",
    "Use the standard deviation of the cross validation accuracy values for each k as its error bar height (for the KNN predictor)."
   ]
  },
  {
   "cell_type": "code",
   "execution_count": 9,
   "metadata": {
    "collapsed": false
   },
   "outputs": [
    {
     "data": {
      "text/plain": [
       "<Container object of 3 artists>"
      ]
     },
     "execution_count": 9,
     "metadata": {},
     "output_type": "execute_result"
    },
    {
     "data": {
      "image/png": "[encoded data removed]",
      "text/plain": [
       "<matplotlib.figure.Figure at 0x11c435510>"
      ]
     },
     "metadata": {},
     "output_type": "display_data"
    }
   ],
   "source": [
    "means = map(itemgetter(1), map(k_model_cross, range(1,21)))\n",
    "stds = map(itemgetter(2), map(k_model_cross, range(1,21)))\n",
    "plt.figure()\n",
    "plt.errorbar(range(1,21), means, yerr=stds)\n"
   ]
  },
  {
   "cell_type": "markdown",
   "metadata": {},
   "source": [
    "#### Challenge 9 `[Modeling]`\n",
    "Calculate the accuracy, precision, recall and f1 scores on the test set for each classifier you built (including the trivial ones).\n",
    "(Use only one KNN with the best k, no need to do this for all k values)."
   ]
  },
  {
   "cell_type": "code",
   "execution_count": 10,
   "metadata": {
    "collapsed": false
   },
   "outputs": [
    {
     "name": "stdout",
     "output_type": "stream",
     "text": [
      "{'recall': array([ 0.92035398,  0.93442623]), 'f1': array([ 0.94117647,  0.8976378 ]), 'precision': array([ 0.96296296,  0.86363636]), 'accuracy': 0.92528735632183912}\n"
     ]
    }
   ],
   "source": [
    "import sklearn\n",
    "def k_model_all(train_set, test_set, k):\n",
    "    knn_model = KNeighborsClassifier(n_neighbors=k).fit(train_set[range(1,train_set.shape[1])],train_set[0])\n",
    "    pred_y = knn_model.predict(test_set[range(1,test_set.shape[1])])\n",
    "    f1 = sklearn.metrics.f1_score(test_set[0], pred_y, average=None, labels=['democrat', 'republican'], pos_label=None)\n",
    "    ps = sklearn.metrics.precision_score(test_set[0], pred_y, average=None, labels=['democrat', 'republican'], pos_label=None)\n",
    "    rs = sklearn.metrics.recall_score(test_set[0], pred_y, average=None, labels=['democrat', 'republican'], pos_label=None)\n",
    "    acc_s = sklearn.metrics.accuracy_score(test_set[0], pred_y)\n",
    "    return {'f1':f1, 'precision': ps, 'accuracy': acc_s, 'recall': rs}\n",
    "\n",
    "print k_model_all(train, test, 3)"
   ]
  },
  {
   "cell_type": "markdown",
   "metadata": {},
   "source": [
    "#### Challenge 10 `[Modeling]`\n",
    "Calculate the same metrics as in Challenge 9, but use cross validation instead of that test set."
   ]
  },
  {
   "cell_type": "code",
   "execution_count": 11,
   "metadata": {
    "collapsed": false
   },
   "outputs": [
    {
     "name": "stdout",
     "output_type": "stream",
     "text": [
      "{'recall': array([ 0.93258427,  0.93452381]), 'f1': array([ 0.94497154,  0.9154519 ]), 'precision': array([ 0.95769231,  0.89714286]), 'accuracy': 0.93333333333333335}\n"
     ]
    }
   ],
   "source": [
    "def k_model_all_cross(train_set, k):\n",
    "    knn_model = KNeighborsClassifier(n_neighbors=k)\n",
    "    pred_y = cross_validation.cross_val_predict(knn_model, train_set[range(1,train_set.shape[1])], train_set[0], cv=20)\n",
    "    f1 = sklearn.metrics.f1_score(train_set[0], pred_y, average=None, labels=['democrat', 'republican'], pos_label=None)\n",
    "    ps = sklearn.metrics.precision_score(train_set[0], pred_y, average=None, labels=['democrat', 'republican'], pos_label=None)\n",
    "    rs = sklearn.metrics.recall_score(train_set[0], pred_y, average=None, labels=['democrat', 'republican'], pos_label=None)\n",
    "    acc_s = sklearn.metrics.accuracy_score(train_set[0], pred_y)\n",
    "    return {'f1':f1, 'precision': ps, 'accuracy': acc_s, 'recall': rs}\n",
    "print k_model_all_cross(data, 3)"
   ]
  },
  {
   "cell_type": "markdown",
   "metadata": {},
   "source": [
    "#### Challenge 11a `[Python]`\n",
    "A Portuguese bank is having a telemrketing campaign. They try to get their clients to subscribe to a term deposit product. Often more than one call to the same client is required. They have been recording their success or failure with each client, along with all the data they have on that client. To cut costs, the bank wants to predict who is likely to subscribe, so they can call those clients and not waste time and money calling people that likely won't subscribe anyway. To that end, look in the repo directory.  The records are in *challenges/challenge_2/bank/bank.csv* and the columns are described in *challenges/challenge_2/bank/bank-description.md*\n",
    "\n",
    "Build a  classifier with all the numeric features. Calculate the accuracy, precision, and recall for identifying the subscribers."
   ]
  },
  {
   "cell_type": "code",
   "execution_count": 53,
   "metadata": {
    "collapsed": false
   },
   "outputs": [
    {
     "name": "stdout",
     "output_type": "stream",
     "text": [
      "   balance       pdays  housing  age  y  poutcome_success  poutcome_failure  \\\n",
      "0     2143  224.577692        1   58  0               0.0               0.0   \n",
      "1       29  224.577692        1   44  0               0.0               0.0   \n",
      "2        2  224.577692        1   33  0               0.0               0.0   \n",
      "3     1506  224.577692        1   47  0               0.0               0.0   \n",
      "4        1  224.577692        0   33  0               0.0               0.0   \n",
      "\n",
      "  new_call  \n",
      "0     True  \n",
      "1     True  \n",
      "2     True  \n",
      "3     True  \n",
      "4     True  \n"
     ]
    },
    {
     "ename": "AttributeError",
     "evalue": "'LinearSVC' object has no attribute 'predict_proba'",
     "output_type": "error",
     "traceback": [
      "\u001b[0;31m---------------------------------------------------------------------------\u001b[0m",
      "\u001b[0;31mAttributeError\u001b[0m                            Traceback (most recent call last)",
      "\u001b[0;32m<ipython-input-53-eca6d9a24578>\u001b[0m in \u001b[0;36m<module>\u001b[0;34m()\u001b[0m\n\u001b[1;32m     67\u001b[0m \u001b[0;32mprint\u001b[0m \u001b[0mnew_data\u001b[0m\u001b[0;34m.\u001b[0m\u001b[0mhead\u001b[0m\u001b[0;34m(\u001b[0m\u001b[0;34m)\u001b[0m\u001b[0;34m\u001b[0m\u001b[0m\n\u001b[1;32m     68\u001b[0m \u001b[0;34m\u001b[0m\u001b[0m\n\u001b[0;32m---> 69\u001b[0;31m \u001b[0mm\u001b[0m \u001b[0;34m=\u001b[0m \u001b[0mmodelling_bank\u001b[0m\u001b[0;34m(\u001b[0m\u001b[0mnew_data\u001b[0m\u001b[0;34m)\u001b[0m\u001b[0;34m\u001b[0m\u001b[0m\n\u001b[0m\u001b[1;32m     70\u001b[0m \u001b[0;32mprint\u001b[0m \u001b[0mm\u001b[0m\u001b[0;34m\u001b[0m\u001b[0m\n\u001b[1;32m     71\u001b[0m \u001b[0;34m\u001b[0m\u001b[0m\n",
      "\u001b[0;32m<ipython-input-53-eca6d9a24578>\u001b[0m in \u001b[0;36mmodelling_bank\u001b[0;34m(df)\u001b[0m\n\u001b[1;32m     31\u001b[0m         \u001b[0mpred_y\u001b[0m \u001b[0;34m=\u001b[0m \u001b[0mmodel\u001b[0m\u001b[0;34m[\u001b[0m\u001b[0;36m1\u001b[0m\u001b[0;34m]\u001b[0m\u001b[0;34m.\u001b[0m\u001b[0mpredict\u001b[0m\u001b[0;34m(\u001b[0m\u001b[0mtest_set\u001b[0m\u001b[0;34m[\u001b[0m\u001b[0mcols\u001b[0m\u001b[0;34m]\u001b[0m\u001b[0;34m)\u001b[0m\u001b[0;34m\u001b[0m\u001b[0m\n\u001b[1;32m     32\u001b[0m \u001b[0;31m#         y_score = model[1].decision_function(test_set[cols]).ravel()\u001b[0m\u001b[0;34m\u001b[0m\u001b[0;34m\u001b[0m\u001b[0m\n\u001b[0;32m---> 33\u001b[0;31m         \u001b[0mprobs\u001b[0m \u001b[0;34m=\u001b[0m \u001b[0mmodel\u001b[0m\u001b[0;34m[\u001b[0m\u001b[0;36m1\u001b[0m\u001b[0;34m]\u001b[0m\u001b[0;34m.\u001b[0m\u001b[0mpredict_proba\u001b[0m\u001b[0;34m(\u001b[0m\u001b[0mtest_set\u001b[0m\u001b[0;34m[\u001b[0m\u001b[0mcols\u001b[0m\u001b[0;34m]\u001b[0m\u001b[0;34m)\u001b[0m\u001b[0;34m\u001b[0m\u001b[0m\n\u001b[0m\u001b[1;32m     34\u001b[0m         \u001b[0mlogit_roc_auc\u001b[0m \u001b[0;34m=\u001b[0m \u001b[0mroc_auc_score\u001b[0m\u001b[0;34m(\u001b[0m\u001b[0my_test\u001b[0m\u001b[0;34m,\u001b[0m \u001b[0mmodel\u001b[0m\u001b[0;34m.\u001b[0m\u001b[0mpredict\u001b[0m\u001b[0;34m(\u001b[0m\u001b[0mX_test\u001b[0m\u001b[0;34m)\u001b[0m\u001b[0;34m)\u001b[0m\u001b[0;34m\u001b[0m\u001b[0m\n\u001b[1;32m     35\u001b[0m \u001b[0;34m\u001b[0m\u001b[0m\n",
      "\u001b[0;31mAttributeError\u001b[0m: 'LinearSVC' object has no attribute 'predict_proba'"
     ]
    }
   ],
   "source": [
    "from sklearn import preprocessing\n",
    "from sklearn.neural_network import MLPClassifier\n",
    "from sklearn.feature_selection import VarianceThreshold\n",
    "from sklearn.linear_model import LogisticRegression\n",
    "from sklearn.svm import LinearSVC\n",
    "from sklearn.metrics import roc_curve, auc, roc_auc_score\n",
    "from sklearn import preprocessing\n",
    "from sklearn.cluster import DBSCAN\n",
    "\n",
    "# def convert_to_categories(df, columns):\n",
    "#     les = {}\n",
    "#     for column in columns:\n",
    "#         le = preprocessing.LabelEncoder()\n",
    "#         df[column] = le.fit_transform(df[column])\n",
    "#         les[column] = le\n",
    "#     return (df, les)\n",
    "    \n",
    "\n",
    "def decode_categories(df, columns, les):\n",
    "    for column in columns:\n",
    "        df[column] = les[column].inverse_transform(df[column])\n",
    "    return df\n",
    "\n",
    "def modelling_bank(df):\n",
    "    train_set, test_set = train_test_split(df.dropna(how='any'), test_size = 0.4, random_state=3)\n",
    "    cols = [col for col in df.columns if col not in ['y']]\n",
    "    models = [('LinearSVC', LinearSVC()), ('logistic', LogisticRegression()), ('mlp', MLPClassifier(algorithm='l-bfgs', alpha=1e-2, learning_rate='adaptive', hidden_layer_sizes=(5, 2), random_state=1, activation='logistic'))]\n",
    "    results = []\n",
    "    for model in models:\n",
    "        model[1].fit(train_set[cols],train_set['y'])\n",
    "        pred_y = model[1].predict(test_set[cols])\n",
    "#         y_score = model[1].decision_function(test_set[cols]).ravel()\n",
    "        probs = model[1].predict_proba(test_set[cols])\n",
    "        logit_roc_auc = roc_auc_score(y_test, model.predict(X_test))\n",
    "\n",
    "        fpr, tpr, thresholds = roc_curve(y_test, probs[:,1])\n",
    "        #roc_auc = auc(fpr, tpr)\n",
    "\n",
    "        ##############################################################################\n",
    "        # Plot of a ROC curve for a specific class\n",
    "        plt.figure()\n",
    "        plt.plot(fpr, tpr, label='ROC curve (area = %0.2f)' % logit_roc_auc)\n",
    "        plt.plot([0, 1], [0, 1], 'k--')\n",
    "        plt.xlim([0.0, 1.0])\n",
    "        plt.ylim([0.0, 1.05])\n",
    "        plt.xlabel('False Positive Rate')\n",
    "        plt.ylabel('True Positive Rate')\n",
    "        plt.title('Receiver operating characteristic example')\n",
    "        plt.legend(loc=\"lower right\")\n",
    "        plt.show()\n",
    "        f1 = sklearn.metrics.f1_score(test_set['y'], pred_y, average=None)\n",
    "        ps = sklearn.metrics.precision_score(test_set['y'], pred_y, average=None)\n",
    "        rs = sklearn.metrics.recall_score(test_set['y'], pred_y, average=None)\n",
    "        acc_s = sklearn.metrics.accuracy_score(test_set['y'], pred_y)\n",
    "        conf_m = sklearn.metrics.confusion_matrix(test_set['y'], pred_y, labels=[0,1])\n",
    "        results.append({'type':model[0], 'f1':f1, 'precision': ps, 'accuracy': acc_s, 'recall': rs, 'matrix':conf_m})\n",
    "    return results\n",
    "\n",
    "\n",
    "df = pd.read_csv(open('../project_2/data/bank/bank.csv', 'r'), delimiter=';').replace(('yes','no', 'unknown'), (1, 0, None))\n",
    "bank_data = df[['balance', 'pdays', 'housing', 'age', 'y']]\n",
    "cat_dummies = pd.get_dummies(df['poutcome'].fillna('other'), dummy_na=False, prefix='poutcome')[['poutcome_success', 'poutcome_failure']]\n",
    "new_data = pd.concat([bank_data, cat_dummies], axis=1, join='inner')\n",
    "mean = np.mean(new_data['pdays'].replace((-1,),(None,)).dropna())\n",
    "new_data['new_call'] = bank_data['pdays'].apply(lambda x: x<0)\n",
    "new_data['pdays'] = new_data['pdays'].apply(lambda x: (x if x>=0 else mean))\n",
    "print new_data.head()\n",
    "\n",
    "m = modelling_bank(new_data)\n",
    "print m\n",
    "\n",
    "# min_max_scaler = preprocessing.MinMaxScaler()\n",
    "# cols = [col for col in new_data.columns if col not in ['y']]\n",
    "# x_scaled = min_max_scaler.fit_transform(new_data[cols])\n",
    "# df_normalized = pd.DataFrame(x_scaled)\n",
    "# df_normalized.columns = cols\n",
    "# df_normalized['y'] = new_data['y']\n",
    "# cluster_model = DBSCAN()\n",
    "# # train_set, test_set = train_test_split(df_normalized.dropna(how='any'), test_size = 0.4, random_state=3)\n",
    "# cluster_model.fit(train_set[cols],train_set['y'])\n",
    "# pred_y = cluster_model.fit_predict(test_set[cols])\n",
    "# print set(pred_y)\n",
    "\n",
    "# print df_normalized.head()\n"
   ]
  },
  {
   "cell_type": "code",
   "execution_count": 42,
   "metadata": {
    "collapsed": false
   },
   "outputs": [
    {
     "name": "stdout",
     "output_type": "stream",
     "text": [
      "Counter({0: 7963, 2: 6833, 1: 1403, 5: 550, 3: 478, 4: 414, 6: 251, 7: 192, -1: 1})\n"
     ]
    }
   ],
   "source": [
    "from collections import Counter\n",
    "print Counter(pred_y)"
   ]
  },
  {
   "cell_type": "markdown",
   "metadata": {},
   "source": [
    "#### Challenge 11b `[Modeling]`\n",
    "Is this a good predictor? Which features are contributing the most? Check if any single feature that you included in your model might be driving the classifier. If so, why? Can you use this model successfully? Can you use a model with just that column? Is something wrong? (Hint: You should not use one of the columns, but it is not obvious at initial look. Find out which one and why that might be)"
   ]
  },
  {
   "cell_type": "code",
   "execution_count": null,
   "metadata": {
    "collapsed": true
   },
   "outputs": [],
   "source": []
  },
  {
   "cell_type": "markdown",
   "metadata": {},
   "source": [
    "_The rest is completely optional specialization challenges. Select the ones you're excited about, or explore other things you got curious about through the first 11-ish challenges._\n",
    "\n",
    "\n",
    "\n",
    "-----\n",
    "\n",
    "\n",
    "\n",
    "#### Extra `[Python]` & `[Modeling]` Challenge A\n",
    "\n",
    "Instead of 'democrat' or 'republican', can you predict the vote of a\n",
    "representative based on their other votes?\n",
    "\n",
    "Reload the data from scratch. Convert y-->1, n-->0.\n",
    "\n",
    "Choose one vote. Build a classifier (logistic regression or KNN), that\n",
    "uses the other votes (do not use the party as a feature) to predict if\n",
    "the vote will be 1 or 0.\n",
    "\n",
    "Convert each ? to the mode of the column (if a senator has not voted,\n",
    "make their vote 1 if most others voted 1, make it 0 if most others\n",
    "voted 0).\n",
    "\n",
    "Calculate the cross validation accuracy of your classifier for\n",
    "predicting how each representative will vote on the issue."
   ]
  },
  {
   "cell_type": "code",
   "execution_count": null,
   "metadata": {
    "collapsed": true
   },
   "outputs": [],
   "source": []
  },
  {
   "cell_type": "markdown",
   "metadata": {},
   "source": [
    "#### Extra `[Modeling]` Challenge B\n",
    "\n",
    "Back to your movie data! Choose one categoric feature to predict. \n",
    "We mention MPAA Rating in the slides, but genre, month, etc. are all decent choices. If\n",
    "you don't have any non-numeric features, you can make two bins out of\n",
    "a numeric one (like \"Runtime>100 mins\" and \"Runtime<=100 mins\")\n",
    "\n",
    "Make a bar graph of how many of each movie there is in the data. For\n",
    "example, with Ratings, show how many G, PG, PG-13, R movies there are,\n",
    "etc. (basically a histogram of your labels).\n",
    "\n",
    "Predict your outcome variable (target/labels) using KNN and logistic\n",
    "regression. Calculate their accuracies.\n",
    "\n",
    "Make a baseline stupid predictor that always predicts the label that\n",
    "is present the most in the data. Calculate its accuracy on a test set.\n",
    "\n",
    "How much better do KNN and logistic regression do versus the baseline?\n",
    "\n",
    "What are the coefficients of logistic regression? Which features\n",
    "affect the outcome how?"
   ]
  },
  {
   "cell_type": "code",
   "execution_count": null,
   "metadata": {
    "collapsed": true
   },
   "outputs": [],
   "source": []
  },
  {
   "cell_type": "markdown",
   "metadata": {},
   "source": [
    "#### Extra`[Modeling]` Challenge C\n",
    "\n",
    "This is a preview of many other classification algorithms. Scikit.learn has the same interface for all of these, so you\n",
    "can use them exactly the same way as you did `LogisticRegression` and\n",
    "`KNeighborsClassifier`. Use each of these to classify your data and\n",
    "print the test accuracy of each:\n",
    "\n",
    "Gaussian Naive Bayes\n",
    "\n",
    "    from sklearn.naive_bayes import GaussianNB\n",
    "\n",
    "\n",
    "SVM (Support Vector Machine) Classifier\n",
    "\n",
    "    from sklearn.svm import SVC\n",
    "\n",
    "\n",
    "Decision Tree\n",
    "\n",
    "    from sklearn.tree import DecisionTreeClassifier\n",
    "\n",
    "\n",
    "Random Forest\n",
    "\n",
    "    from sklearn.ensemble import RandomForestClassifier"
   ]
  },
  {
   "cell_type": "code",
   "execution_count": null,
   "metadata": {
    "collapsed": true
   },
   "outputs": [],
   "source": []
  },
  {
   "cell_type": "markdown",
   "metadata": {},
   "source": [
    "#### Extra `[Python]` Challenge D\n",
    "\n",
    "The representative votes dataset\n",
    "only had 0s and 1s. Let's just swiftly tackle the breast cancer\n",
    "surgery data we talked about in class.\n",
    "\n",
    "The data is [in the repository](haberman.csv). You can learn more about it [here](https://archive.ics.uci.edu/ml/datasets/Haberman%27s+Survival).\n",
    "\n",
    "- What is the average and standard deviation of the age of all of the\n",
    "patients?\n",
    "- What is the average and standard deviation of the age of those\n",
    "patients that survived 5 or more years after surgery?\n",
    "- What is the average and standard deviation of the age of those\n",
    "patients who survived fewer than 5 years after surgery?\n",
    "- Plot a histogram of the ages side by side with a histogram of the\n",
    "number of axillary nodes.\n",
    "- What is the earliest year of surgery in this dataset?\n",
    "- What is the most recent year of surgery?\n",
    "- Use logistic regression to predict survival after 5 years. How well\n",
    "does your model do?\n",
    "- What are the coefficients of logistic regression? Which features\n",
    "affect the outcome how?"
   ]
  },
  {
   "cell_type": "code",
   "execution_count": null,
   "metadata": {
    "collapsed": true
   },
   "outputs": [],
   "source": []
  },
  {
   "cell_type": "markdown",
   "metadata": {},
   "source": [
    "#### Extra `[Modeling]` & `[Visualization]` Challenge E\n",
    "For each representatives classifier (KNN and logistic regression), draw the ROC curve and calculate the AUC.\n",
    "As a `[Visualitation]` track bonus, make the ROC curve look good, following good data visualization principles."
   ]
  },
  {
   "cell_type": "code",
   "execution_count": null,
   "metadata": {
    "collapsed": true
   },
   "outputs": [],
   "source": []
  }
 ],
 "metadata": {
  "kernelspec": {
   "display_name": "Python 2",
   "language": "python",
   "name": "python2"
  },
  "language_info": {
   "codemirror_mode": {
    "name": "ipython",
    "version": 2
   },
   "file_extension": ".py",
   "mimetype": "text/x-python",
   "name": "python",
   "nbconvert_exporter": "python",
   "pygments_lexer": "ipython2",
   "version": "2.7.12"
  }
 },
 "nbformat": 4,
 "nbformat_minor": 0
}
